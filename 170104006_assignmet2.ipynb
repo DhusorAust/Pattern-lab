{
 "cells": [
  {
   "cell_type": "code",
   "execution_count": 1,
   "metadata": {},
   "outputs": [],
   "source": [
    "import pandas as pd\n",
    "import numpy as np\n",
    "import matplotlib.pyplot as plt"
   ]
  },
  {
   "cell_type": "code",
   "execution_count": 3,
   "metadata": {},
   "outputs": [],
   "source": [
    "ara=np.array([[5,5],\n",
    "              [15,5],\n",
    "              [16,5]])"
   ]
  },
  {
   "cell_type": "code",
   "execution_count": 5,
   "metadata": {},
   "outputs": [
    {
     "data": {
      "text/plain": [
       "array([[ 5,  5],\n",
       "       [15,  5]])"
      ]
     },
     "execution_count": 5,
     "metadata": {},
     "output_type": "execute_result"
    }
   ],
   "source": [
    "ara[ara.sum(1)%10==0]"
   ]
  },
  {
   "cell_type": "code",
   "execution_count": 6,
   "metadata": {},
   "outputs": [
    {
     "ename": "TypeError",
     "evalue": "can't multiply sequence by non-int of type 'list'",
     "output_type": "error",
     "traceback": [
      "\u001b[1;31m---------------------------------------------------------------------------\u001b[0m",
      "\u001b[1;31mTypeError\u001b[0m                                 Traceback (most recent call last)",
      "\u001b[1;32m<ipython-input-6-1ceb5a05b91d>\u001b[0m in \u001b[0;36m<module>\u001b[1;34m\u001b[0m\n\u001b[0;32m      1\u001b[0m \u001b[0ml\u001b[0m\u001b[1;33m=\u001b[0m\u001b[1;33m[\u001b[0m\u001b[1;36m1\u001b[0m\u001b[1;33m,\u001b[0m\u001b[1;36m2\u001b[0m\u001b[1;33m]\u001b[0m\u001b[1;33m\u001b[0m\u001b[1;33m\u001b[0m\u001b[0m\n\u001b[0;32m      2\u001b[0m \u001b[0my\u001b[0m\u001b[1;33m=\u001b[0m\u001b[1;33m[\u001b[0m\u001b[1;36m2\u001b[0m\u001b[1;33m,\u001b[0m\u001b[1;36m3\u001b[0m\u001b[1;33m]\u001b[0m\u001b[1;33m\u001b[0m\u001b[1;33m\u001b[0m\u001b[0m\n\u001b[1;32m----> 3\u001b[1;33m \u001b[0ml\u001b[0m\u001b[1;33m*\u001b[0m\u001b[0my\u001b[0m\u001b[1;33m\u001b[0m\u001b[1;33m\u001b[0m\u001b[0m\n\u001b[0m",
      "\u001b[1;31mTypeError\u001b[0m: can't multiply sequence by non-int of type 'list'"
     ]
    }
   ],
   "source": [
    "l=[1,2]\n",
    "y=[2,3]\n",
    "l*y"
   ]
  },
  {
   "cell_type": "code",
   "execution_count": null,
   "metadata": {},
   "outputs": [],
   "source": [
    "-0.5*np.dot(np.dot((train[i,:]-mean1).T,np.linalg.inv(sigma1)),\n",
    "            (train[i,:]-mean1))-np.log(2*np.pi)-\n",
    "0.5*np.log(np.linalg.det(sigma1))+np.log(prior1)"
   ]
  },
  {
   "cell_type": "code",
   "execution_count": 2,
   "metadata": {},
   "outputs": [],
   "source": [
    "train = pd.read_csv('train-perceptron.txt',sep= ' ',names=[\"x1\",\"x2\",\"Y\"])"
   ]
  },
  {
   "cell_type": "code",
   "execution_count": 8,
   "metadata": {},
   "outputs": [
    {
     "ename": "TypeError",
     "evalue": "can only concatenate str (not \"int\") to str",
     "output_type": "error",
     "traceback": [
      "\u001b[1;31m---------------------------------------------------------------------------\u001b[0m",
      "\u001b[1;31mTypeError\u001b[0m                                 Traceback (most recent call last)",
      "\u001b[1;32m<ipython-input-8-4d0a1dc05cbe>\u001b[0m in \u001b[0;36m<module>\u001b[1;34m\u001b[0m\n\u001b[1;32m----> 1\u001b[1;33m \u001b[1;34m\"b\"\u001b[0m\u001b[1;33m+\u001b[0m\u001b[1;36m20\u001b[0m\u001b[1;33m\u001b[0m\u001b[1;33m\u001b[0m\u001b[0m\n\u001b[0m",
      "\u001b[1;31mTypeError\u001b[0m: can only concatenate str (not \"int\") to str"
     ]
    }
   ],
   "source": [
    "\"b\"+20"
   ]
  },
  {
   "cell_type": "code",
   "execution_count": 3,
   "metadata": {},
   "outputs": [
    {
     "data": {
      "text/html": [
       "<div>\n",
       "<style scoped>\n",
       "    .dataframe tbody tr th:only-of-type {\n",
       "        vertical-align: middle;\n",
       "    }\n",
       "\n",
       "    .dataframe tbody tr th {\n",
       "        vertical-align: top;\n",
       "    }\n",
       "\n",
       "    .dataframe thead th {\n",
       "        text-align: right;\n",
       "    }\n",
       "</style>\n",
       "<table border=\"1\" class=\"dataframe\">\n",
       "  <thead>\n",
       "    <tr style=\"text-align: right;\">\n",
       "      <th></th>\n",
       "      <th>x1</th>\n",
       "      <th>x2</th>\n",
       "      <th>Y</th>\n",
       "    </tr>\n",
       "  </thead>\n",
       "  <tbody>\n",
       "    <tr>\n",
       "      <th>0</th>\n",
       "      <td>1</td>\n",
       "      <td>1.0</td>\n",
       "      <td>1</td>\n",
       "    </tr>\n",
       "    <tr>\n",
       "      <th>1</th>\n",
       "      <td>1</td>\n",
       "      <td>-1.0</td>\n",
       "      <td>1</td>\n",
       "    </tr>\n",
       "    <tr>\n",
       "      <th>2</th>\n",
       "      <td>2</td>\n",
       "      <td>2.5</td>\n",
       "      <td>2</td>\n",
       "    </tr>\n",
       "    <tr>\n",
       "      <th>3</th>\n",
       "      <td>0</td>\n",
       "      <td>2.0</td>\n",
       "      <td>2</td>\n",
       "    </tr>\n",
       "    <tr>\n",
       "      <th>4</th>\n",
       "      <td>2</td>\n",
       "      <td>3.0</td>\n",
       "      <td>2</td>\n",
       "    </tr>\n",
       "    <tr>\n",
       "      <th>5</th>\n",
       "      <td>4</td>\n",
       "      <td>5.0</td>\n",
       "      <td>1</td>\n",
       "    </tr>\n",
       "  </tbody>\n",
       "</table>\n",
       "</div>"
      ],
      "text/plain": [
       "   x1   x2  Y\n",
       "0   1  1.0  1\n",
       "1   1 -1.0  1\n",
       "2   2  2.5  2\n",
       "3   0  2.0  2\n",
       "4   2  3.0  2\n",
       "5   4  5.0  1"
      ]
     },
     "execution_count": 3,
     "metadata": {},
     "output_type": "execute_result"
    }
   ],
   "source": [
    "train"
   ]
  },
  {
   "cell_type": "code",
   "execution_count": 4,
   "metadata": {},
   "outputs": [],
   "source": [
    "class1=train[train['Y']==1].iloc[:,0:2].reset_index(drop=True) \n",
    "class2=train[train['Y']==2].iloc[:,0:2].reset_index(drop=True)"
   ]
  },
  {
   "cell_type": "code",
   "execution_count": 5,
   "metadata": {},
   "outputs": [
    {
     "data": {
      "text/html": [
       "<div>\n",
       "<style scoped>\n",
       "    .dataframe tbody tr th:only-of-type {\n",
       "        vertical-align: middle;\n",
       "    }\n",
       "\n",
       "    .dataframe tbody tr th {\n",
       "        vertical-align: top;\n",
       "    }\n",
       "\n",
       "    .dataframe thead th {\n",
       "        text-align: right;\n",
       "    }\n",
       "</style>\n",
       "<table border=\"1\" class=\"dataframe\">\n",
       "  <thead>\n",
       "    <tr style=\"text-align: right;\">\n",
       "      <th></th>\n",
       "      <th>x1</th>\n",
       "      <th>x2</th>\n",
       "    </tr>\n",
       "  </thead>\n",
       "  <tbody>\n",
       "    <tr>\n",
       "      <th>0</th>\n",
       "      <td>1</td>\n",
       "      <td>1.0</td>\n",
       "    </tr>\n",
       "    <tr>\n",
       "      <th>1</th>\n",
       "      <td>1</td>\n",
       "      <td>-1.0</td>\n",
       "    </tr>\n",
       "    <tr>\n",
       "      <th>2</th>\n",
       "      <td>4</td>\n",
       "      <td>5.0</td>\n",
       "    </tr>\n",
       "  </tbody>\n",
       "</table>\n",
       "</div>"
      ],
      "text/plain": [
       "   x1   x2\n",
       "0   1  1.0\n",
       "1   1 -1.0\n",
       "2   4  5.0"
      ]
     },
     "execution_count": 5,
     "metadata": {},
     "output_type": "execute_result"
    }
   ],
   "source": [
    "class1"
   ]
  },
  {
   "cell_type": "code",
   "execution_count": 6,
   "metadata": {},
   "outputs": [
    {
     "data": {
      "image/png": "[encoded data removed]",
      "text/plain": [
       "<Figure size 432x288 with 1 Axes>"
      ]
     },
     "metadata": {
      "needs_background": "light"
     },
     "output_type": "display_data"
    },
    {
     "data": {
      "text/plain": [
       "<Figure size 1080x576 with 0 Axes>"
      ]
     },
     "metadata": {},
     "output_type": "display_data"
    }
   ],
   "source": [
    "fig, ax = plt.subplots()\n",
    "plt.figure(figsize=(15,8))\n",
    "\n",
    "ax.scatter(class1['x1'], class1['x2'],marker='o',color='r',label='Train Class 1')\n",
    "ax.scatter(class2['x1'], class2['x2'],marker='*',color='k',label='Train Class 2')\n",
    "legend = ax.legend(loc='upper center', shadow=False, fontsize='small',labelspacing=1)\n",
    "legend.get_frame().set_facecolor('None')\n",
    "plt.show()"
   ]
  },
  {
   "cell_type": "code",
   "execution_count": 7,
   "metadata": {},
   "outputs": [],
   "source": [
    "x=[]\n",
    "y=[]\n",
    "m=0.5\n",
    "c=1\n",
    "for i in range(-1,5):\n",
    "    x.append(i)\n",
    "    y.append(m*i+c)\n",
    "    "
   ]
  },
  {
   "cell_type": "code",
   "execution_count": 8,
   "metadata": {},
   "outputs": [
    {
     "data": {
      "image/png": "[encoded data removed]",
      "text/plain": [
       "<Figure size 432x288 with 1 Axes>"
      ]
     },
     "metadata": {
      "needs_background": "light"
     },
     "output_type": "display_data"
    },
    {
     "data": {
      "text/plain": [
       "<Figure size 1080x576 with 0 Axes>"
      ]
     },
     "metadata": {},
     "output_type": "display_data"
    }
   ],
   "source": [
    "fig, ax = plt.subplots()\n",
    "plt.figure(figsize=(15,8))\n",
    "\n",
    "ax.scatter(class1['x1'], class1['x2'],marker='o',color='r',label='Train Class 1')\n",
    "ax.scatter(class2['x1'], class2['x2'],marker='*',color='k',label='Train Class 2')\n",
    "ax.plot(x,y,\"--\",label=\"Decision Boundary\")\n",
    "legend = ax.legend(loc='upper center', shadow=False, fontsize='small',labelspacing=1)\n",
    "legend.get_frame().set_facecolor('None')\n",
    "plt.show()"
   ]
  },
  {
   "cell_type": "markdown",
   "metadata": {},
   "source": [
    "Linear separable can not separate the two classes.. So we need to increase dimension "
   ]
  },
  {
   "cell_type": "code",
   "execution_count": 9,
   "metadata": {},
   "outputs": [],
   "source": [
    "def phi_function(x1,x2):\n",
    "    return [x1**2, x2**2, x1*x2, x1, x2, 1] "
   ]
  },
  {
   "cell_type": "code",
   "execution_count": 10,
   "metadata": {},
   "outputs": [
    {
     "data": {
      "text/plain": [
       "5.0"
      ]
     },
     "execution_count": 10,
     "metadata": {},
     "output_type": "execute_result"
    }
   ],
   "source": [
    "class1['x2'][2]"
   ]
  },
  {
   "cell_type": "code",
   "execution_count": 11,
   "metadata": {},
   "outputs": [],
   "source": [
    "y1=[]\n",
    "y2=[]"
   ]
  },
  {
   "cell_type": "code",
   "execution_count": 12,
   "metadata": {},
   "outputs": [],
   "source": [
    "for i in range(len(class1)):    \n",
    "    y1.append(phi_function(class1['x1'][i],class1['x2'][i]))\n",
    "    y2.append(phi_function(class2['x1'][i],class2['x2'][i]))\n",
    "    "
   ]
  },
  {
   "cell_type": "code",
   "execution_count": 13,
   "metadata": {},
   "outputs": [
    {
     "data": {
      "text/plain": [
       "[[1, 1.0, 1.0, 1, 1.0, 1],\n",
       " [1, 1.0, -1.0, 1, -1.0, 1],\n",
       " [16, 25.0, 20.0, 4, 5.0, 1]]"
      ]
     },
     "execution_count": 13,
     "metadata": {},
     "output_type": "execute_result"
    }
   ],
   "source": [
    "y1"
   ]
  },
  {
   "cell_type": "code",
   "execution_count": 14,
   "metadata": {},
   "outputs": [
    {
     "data": {
      "text/plain": [
       "[[4, 6.25, 5.0, 2, 2.5, 1], [0, 4.0, 0.0, 0, 2.0, 1], [4, 9.0, 6.0, 2, 3.0, 1]]"
      ]
     },
     "execution_count": 14,
     "metadata": {},
     "output_type": "execute_result"
    }
   ],
   "source": [
    "y2"
   ]
  },
  {
   "cell_type": "code",
   "execution_count": 15,
   "metadata": {},
   "outputs": [],
   "source": [
    "normalize_two=np.array(y2).dot(-1)"
   ]
  },
  {
   "cell_type": "code",
   "execution_count": 16,
   "metadata": {},
   "outputs": [
    {
     "data": {
      "text/plain": [
       "array([[-4.  , -6.25, -5.  , -2.  , -2.5 , -1.  ],\n",
       "       [ 0.  , -4.  ,  0.  ,  0.  , -2.  , -1.  ],\n",
       "       [-4.  , -9.  , -6.  , -2.  , -3.  , -1.  ]])"
      ]
     },
     "execution_count": 16,
     "metadata": {},
     "output_type": "execute_result"
    }
   ],
   "source": [
    "normalize_two"
   ]
  },
  {
   "cell_type": "code",
   "execution_count": 17,
   "metadata": {},
   "outputs": [],
   "source": [
    "y1=np.array(y1)"
   ]
  },
  {
   "cell_type": "code",
   "execution_count": 18,
   "metadata": {},
   "outputs": [
    {
     "data": {
      "text/plain": [
       "array([[ 1.,  1.,  1.,  1.,  1.,  1.],\n",
       "       [ 1.,  1., -1.,  1., -1.,  1.],\n",
       "       [16., 25., 20.,  4.,  5.,  1.]])"
      ]
     },
     "execution_count": 18,
     "metadata": {},
     "output_type": "execute_result"
    }
   ],
   "source": [
    "y1"
   ]
  },
  {
   "cell_type": "code",
   "execution_count": 19,
   "metadata": {},
   "outputs": [],
   "source": [
    "y = np.concatenate((y1,normalize_two))"
   ]
  },
  {
   "cell_type": "code",
   "execution_count": 20,
   "metadata": {},
   "outputs": [
    {
     "data": {
      "text/plain": [
       "array([[ 1.  ,  1.  ,  1.  ,  1.  ,  1.  ,  1.  ],\n",
       "       [ 1.  ,  1.  , -1.  ,  1.  , -1.  ,  1.  ],\n",
       "       [16.  , 25.  , 20.  ,  4.  ,  5.  ,  1.  ],\n",
       "       [-4.  , -6.25, -5.  , -2.  , -2.5 , -1.  ],\n",
       "       [ 0.  , -4.  ,  0.  ,  0.  , -2.  , -1.  ],\n",
       "       [-4.  , -9.  , -6.  , -2.  , -3.  , -1.  ]])"
      ]
     },
     "execution_count": 20,
     "metadata": {},
     "output_type": "execute_result"
    }
   ],
   "source": [
    "y"
   ]
  },
  {
   "cell_type": "code",
   "execution_count": 21,
   "metadata": {},
   "outputs": [],
   "source": [
    "def single_update(lr,w):\n",
    "    \n",
    "    itr=1\n",
    "    \n",
    "    for j in range(0,100):\n",
    "        \n",
    "        mc=0\n",
    "\n",
    "        for i in range(len(y)):\n",
    "            \n",
    "#             print(j,np.dot(y[i],w))\n",
    "            \n",
    "            if np.dot(y[i],w)<=0:\n",
    "                mc+=1\n",
    "                w=w+np.dot(lr,y[i])  #weights update\n",
    "                \n",
    "        if mc==0:\n",
    "            break     #break the outer loop. we found every class correctly classified\n",
    "        itr+=1\n",
    "        \n",
    "    return itr\n",
    "    \n",
    "    "
   ]
  },
  {
   "cell_type": "code",
   "execution_count": 22,
   "metadata": {},
   "outputs": [],
   "source": [
    "def batch_update(lr,w):\n",
    "    \n",
    "    itr=0\n",
    "    \n",
    "    for j in range(0,200):\n",
    "        \n",
    "        mc=0\n",
    "        \n",
    "        sum_y=np.zeros(6)\n",
    "\n",
    "        for i in range(len(y)):\n",
    "            \n",
    "#             print(j,np.dot(y[i],w))\n",
    "            \n",
    "            if np.dot(y[i],w)<=0:\n",
    "                mc+=1\n",
    "                \n",
    "                sum_y = np.add(sum_y , y[i])\n",
    "                \n",
    "        if mc>0:\n",
    "            \n",
    "            w=w+np.dot(lr,sum_y)\n",
    "                \n",
    "        else:\n",
    "            break\n",
    "            \n",
    "        itr+=1    \n",
    "    return itr\n",
    "            \n"
   ]
  },
  {
   "cell_type": "code",
   "execution_count": 23,
   "metadata": {},
   "outputs": [],
   "source": [
    "def table_show(learning_rate,many_at_a_time,one_at_a_time):\n",
    "  dict = {'Learning rate': learning_rate, 'Many at a time': many_at_a_time, 'One at a time':one_at_a_time}\n",
    "  print(pd.DataFrame(dict).to_string(index=False)) "
   ]
  },
  {
   "cell_type": "code",
   "execution_count": 24,
   "metadata": {},
   "outputs": [],
   "source": [
    "lr = np.arange(0.1,1.1,0.1)"
   ]
  },
  {
   "cell_type": "code",
   "execution_count": 25,
   "metadata": {},
   "outputs": [
    {
     "data": {
      "text/plain": [
       "array([0.1, 0.2, 0.3, 0.4, 0.5, 0.6, 0.7, 0.8, 0.9, 1. ])"
      ]
     },
     "execution_count": 25,
     "metadata": {},
     "output_type": "execute_result"
    }
   ],
   "source": [
    "lr"
   ]
  },
  {
   "cell_type": "code",
   "execution_count": 26,
   "metadata": {},
   "outputs": [],
   "source": [
    "all_zeros=np.zeros(6)\n",
    "all_ones=np.ones(6)\n",
    "random_w=[]"
   ]
  },
  {
   "cell_type": "code",
   "execution_count": 27,
   "metadata": {},
   "outputs": [],
   "source": [
    "import random\n",
    "np.random.seed(6)\n",
    "for i in range(6):\n",
    "  random_w.append(random.randint(0, 6))"
   ]
  },
  {
   "cell_type": "code",
   "execution_count": 28,
   "metadata": {},
   "outputs": [],
   "source": [
    "weights=np.vstack((all_zeros, all_ones,random_w))"
   ]
  },
  {
   "cell_type": "code",
   "execution_count": 29,
   "metadata": {},
   "outputs": [
    {
     "data": {
      "text/plain": [
       "array([[0., 0., 0., 0., 0., 0.],\n",
       "       [1., 1., 1., 1., 1., 1.],\n",
       "       [2., 1., 0., 4., 4., 3.]])"
      ]
     },
     "execution_count": 29,
     "metadata": {},
     "output_type": "execute_result"
    }
   ],
   "source": [
    "weights"
   ]
  },
  {
   "cell_type": "code",
   "execution_count": 30,
   "metadata": {
    "scrolled": false
   },
   "outputs": [
    {
     "name": "stdout",
     "output_type": "stream",
     "text": [
      " Learning rate  Many at a time  One at a time\n",
      "           0.1             104             94\n",
      "           0.2             104             94\n",
      "           0.3              91             94\n",
      "           0.4             104             94\n",
      "           0.5              91             94\n",
      "           0.6             104             94\n",
      "           0.7             104             94\n",
      "           0.8             104             94\n",
      "           0.9             104             94\n",
      "           1.0              91             94\n"
     ]
    },
    {
     "data": {
      "image/png": "[encoded data removed]",
      "text/plain": [
       "<Figure size 1152x576 with 1 Axes>"
      ]
     },
     "metadata": {
      "needs_background": "light"
     },
     "output_type": "display_data"
    },
    {
     "name": "stdout",
     "output_type": "stream",
     "text": [
      " Learning rate  Many at a time  One at a time\n",
      "           0.1             101              6\n",
      "           0.2             103             92\n",
      "           0.3              90            101\n",
      "           0.4             115            101\n",
      "           0.5             104             93\n",
      "           0.6             113             93\n",
      "           0.7              90            101\n",
      "           0.8              90            101\n",
      "           0.9             104             94\n",
      "           1.0              92             94\n"
     ]
    },
    {
     "data": {
      "image/png": "[encoded data removed]",
      "text/plain": [
       "<Figure size 1152x576 with 1 Axes>"
      ]
     },
     "metadata": {
      "needs_background": "light"
     },
     "output_type": "display_data"
    },
    {
     "name": "stdout",
     "output_type": "stream",
     "text": [
      " Learning rate  Many at a time  One at a time\n",
      "           0.1              78             24\n",
      "           0.2              82             89\n",
      "           0.3             125             11\n",
      "           0.4             145            101\n",
      "           0.5             118            101\n",
      "           0.6             134            101\n",
      "           0.7             115             94\n",
      "           0.8             111            101\n",
      "           0.9             116            101\n",
      "           1.0              94            101\n"
     ]
    },
    {
     "data": {
      "image/png": "[encoded data removed]",
      "text/plain": [
       "<Figure size 1152x576 with 1 Axes>"
      ]
     },
     "metadata": {
      "needs_background": "light"
     },
     "output_type": "display_data"
    }
   ],
   "source": [
    "level=['All Zeros Weights','All Ones Weights','Random Weights']\n",
    "for j in range(len(weights)):\n",
    "    lst1=[]\n",
    "    lst2=[]\n",
    "    for i in lr:\n",
    "        iter_batch=batch_update(i,weights[j])\n",
    "        lst1.append(iter_batch)\n",
    "        iter_single=single_update(i,weights[j])\n",
    "        lst2.append(iter_single)\n",
    "\n",
    "    table_show(lr,lst1,lst2)   \n",
    "    X_axis = np.arange(len(lr))\n",
    "\n",
    "    plt.figure(figsize=(16,8))\n",
    "    plt.bar(X_axis - 0.2, lst1, 0.4, label = 'Many at a time')\n",
    "    plt.bar(X_axis + 0.2, lst2, 0.4, label = 'One at a time')\n",
    "\n",
    "    plt.xticks(X_axis, np.around(lr,1))\n",
    "    # plt.xlabel(\"Groups\")\n",
    "    plt.ylabel(\"Number of iteration\")\n",
    "    plt.title(\"Comparison For \"+str(level[j]))\n",
    "    plt.legend()\n",
    "    plt.show()\n",
    "    "
   ]
  },
  {
   "cell_type": "markdown",
   "metadata": {},
   "source": [
    "# Questions answer"
   ]
  },
  {
   "cell_type": "markdown",
   "metadata": {},
   "source": [
    "1. Why do we need to take the sample points to a high dimension?\n",
    "\n",
    "Ans: Sometimes in lower dimension linear separable cant be done. In that case we need to take the sample points to higher dimension.\n",
    "\n",
    "2. In each of the three initial weight cases and for each learning rate, how many updates\n",
    "does the algorithm take before converging?\n",
    "\n",
    "Ans: The answer is shown in the above output cell. "
   ]
  },
  {
   "cell_type": "code",
   "execution_count": null,
   "metadata": {},
   "outputs": [],
   "source": []
  }
 ],
 "metadata": {
  "kernelspec": {
   "display_name": "Python 3",
   "language": "python",
   "name": "python3"
  },
  "language_info": {
   "codemirror_mode": {
    "name": "ipython",
    "version": 3
   },
   "file_extension": ".py",
   "mimetype": "text/x-python",
   "name": "python",
   "nbconvert_exporter": "python",
   "pygments_lexer": "ipython3",
   "version": "3.8.3"
  }
 },
 "nbformat": 4,
 "nbformat_minor": 4
}
