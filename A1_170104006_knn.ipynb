{
 "cells": [
  {
   "cell_type": "code",
   "execution_count": 1,
   "metadata": {},
   "outputs": [],
   "source": [
    "import numpy as np\n",
    "import pandas as pd\n",
    "import matplotlib.pyplot as plt\n",
    "import math"
   ]
  },
  {
   "cell_type": "code",
   "execution_count": 3,
   "metadata": {},
   "outputs": [],
   "source": [
    "data = pd.read_csv('train_knn.txt', sep=\",\",header=None)\n",
    "data=data.to_numpy()"
   ]
  },
  {
   "cell_type": "code",
   "execution_count": 17,
   "metadata": {},
   "outputs": [],
   "source": [
    "test_data = pd.read_csv('test_knn.txt', sep=\",\",header=None)\n",
    "test_data=test_data.to_numpy()"
   ]
  },
  {
   "cell_type": "code",
   "execution_count": 4,
   "metadata": {},
   "outputs": [
    {
     "data": {
      "text/plain": [
       "array([[7, 7, 1],\n",
       "       [7, 4, 1],\n",
       "       [6, 4, 1],\n",
       "       [7, 5, 1],\n",
       "       [7, 6, 1],\n",
       "       [6, 7, 1],\n",
       "       [6, 6, 1],\n",
       "       [3, 4, 2],\n",
       "       [2, 3, 2],\n",
       "       [3, 2, 2],\n",
       "       [4, 3, 2],\n",
       "       [3, 3, 2],\n",
       "       [4, 4, 2],\n",
       "       [1, 4, 2]], dtype=int64)"
      ]
     },
     "execution_count": 4,
     "metadata": {},
     "output_type": "execute_result"
    }
   ],
   "source": [
    "data"
   ]
  },
  {
   "cell_type": "code",
   "execution_count": 18,
   "metadata": {},
   "outputs": [
    {
     "data": {
      "text/plain": [
       "array([[3, 7],\n",
       "       [7, 7],\n",
       "       [4, 3],\n",
       "       [2, 8],\n",
       "       [3, 5],\n",
       "       [1, 2],\n",
       "       [4, 8],\n",
       "       [8, 3],\n",
       "       [8, 4]], dtype=int64)"
      ]
     },
     "execution_count": 18,
     "metadata": {},
     "output_type": "execute_result"
    }
   ],
   "source": [
    "test_data"
   ]
  },
  {
   "cell_type": "code",
   "execution_count": 9,
   "metadata": {},
   "outputs": [
    {
     "data": {
      "text/plain": [
       "1"
      ]
     },
     "execution_count": 9,
     "metadata": {},
     "output_type": "execute_result"
    }
   ],
   "source": [
    "data[0][2]"
   ]
  },
  {
   "cell_type": "code",
   "execution_count": 11,
   "metadata": {},
   "outputs": [
    {
     "data": {
      "text/plain": [
       "array([7, 4], dtype=int64)"
      ]
     },
     "execution_count": 11,
     "metadata": {},
     "output_type": "execute_result"
    }
   ],
   "source": [
    "data[1][0:2]"
   ]
  },
  {
   "cell_type": "code",
   "execution_count": 12,
   "metadata": {},
   "outputs": [],
   "source": [
    "test1=[]\n",
    "test2=[]\n",
    "\n",
    "for i in range(len(data)):\n",
    "    \n",
    "    if data[i][2]==1:\n",
    "        test1.append(data[i][0:2])\n",
    "    else:\n",
    "        test2.append(data[i][0:2])\n",
    "test1=np.array(test1)\n",
    "test2=np.array(test2)"
   ]
  },
  {
   "cell_type": "code",
   "execution_count": 13,
   "metadata": {},
   "outputs": [
    {
     "data": {
      "text/plain": [
       "array([[7, 7],\n",
       "       [7, 4],\n",
       "       [6, 4],\n",
       "       [7, 5],\n",
       "       [7, 6],\n",
       "       [6, 7],\n",
       "       [6, 6]], dtype=int64)"
      ]
     },
     "execution_count": 13,
     "metadata": {},
     "output_type": "execute_result"
    }
   ],
   "source": [
    "test1"
   ]
  },
  {
   "cell_type": "code",
   "execution_count": 14,
   "metadata": {},
   "outputs": [
    {
     "data": {
      "text/plain": [
       "array([[3, 4],\n",
       "       [2, 3],\n",
       "       [3, 2],\n",
       "       [4, 3],\n",
       "       [3, 3],\n",
       "       [4, 4],\n",
       "       [1, 4]], dtype=int64)"
      ]
     },
     "execution_count": 14,
     "metadata": {},
     "output_type": "execute_result"
    }
   ],
   "source": [
    "test2"
   ]
  },
  {
   "cell_type": "code",
   "execution_count": 15,
   "metadata": {},
   "outputs": [
    {
     "data": {
      "image/png": "[encoded data removed]",
      "text/plain": [
       "<Figure size 432x288 with 1 Axes>"
      ]
     },
     "metadata": {
      "needs_background": "light"
     },
     "output_type": "display_data"
    },
    {
     "data": {
      "text/plain": [
       "<Figure size 1080x576 with 0 Axes>"
      ]
     },
     "metadata": {},
     "output_type": "display_data"
    }
   ],
   "source": [
    "fig, ax = plt.subplots()\n",
    "plt.figure(figsize=(15,8))\n",
    "\n",
    "ax.scatter(test1[:,0], test1[:,1],marker='*',color='r',label='Test Class 1')\n",
    "ax.scatter(test2[:,0], test2[:,1],marker='o',color='k',label='Test Class 2')\n",
    "legend = ax.legend(loc='upper center', shadow=False, fontsize='small',labelspacing=1)\n",
    "legend.get_frame().set_facecolor('None')\n",
    "plt.show()"
   ]
  },
  {
   "cell_type": "code",
   "execution_count": 31,
   "metadata": {},
   "outputs": [
    {
     "name": "stdout",
     "output_type": "stream",
     "text": [
      "3\n"
     ]
    }
   ],
   "source": [
    "distances = []\n",
    "prediction= []\n",
    "final_dis = []\n",
    "\n",
    "k = int(input())\n",
    "\n",
    "\n",
    "for i in test_data:\n",
    "    \n",
    "    count1 = 0\n",
    "    count2 = 0\n",
    "    for j in data:\n",
    "        dis = math.sqrt(((i[0] - j[0]) **2) + ((i[1] - j[1]) **2))\n",
    "        \n",
    "        distances.append([dis,j[2]])\n",
    "    distances.sort(key = lambda x: x[0])\n",
    "    for u in distances[:k]:\n",
    "        if(u[1] == 1):\n",
    "            count1 = count1 + 1\n",
    "        else:\n",
    "            count2 = count2 + 1\n",
    "    if(count1 > count2):\n",
    "        predicted = 1\n",
    "    else:\n",
    "        predicted = 2\n",
    "    \n",
    "    distances.insert(k,[i[0],i[1]])\n",
    "#     print(distances[:k])\n",
    "    final_dis.append(distances[:k+1])\n",
    "    \n",
    "    prediction.append([i[0],i[1],predicted])\n",
    "    distances = []\n"
   ]
  },
  {
   "cell_type": "code",
   "execution_count": 32,
   "metadata": {},
   "outputs": [
    {
     "data": {
      "text/plain": [
       "[[3, 7, 1],\n",
       " [7, 7, 1],\n",
       " [4, 3, 2],\n",
       " [2, 8, 2],\n",
       " [3, 5, 2],\n",
       " [1, 2, 2],\n",
       " [4, 8, 1],\n",
       " [8, 3, 1],\n",
       " [8, 4, 1]]"
      ]
     },
     "execution_count": 32,
     "metadata": {},
     "output_type": "execute_result"
    }
   ],
   "source": [
    "prediction"
   ]
  },
  {
   "cell_type": "code",
   "execution_count": 35,
   "metadata": {},
   "outputs": [
    {
     "data": {
      "text/plain": [
       "1"
      ]
     },
     "execution_count": 35,
     "metadata": {},
     "output_type": "execute_result"
    }
   ],
   "source": [
    "prediction[1][2]"
   ]
  },
  {
   "cell_type": "code",
   "execution_count": 40,
   "metadata": {},
   "outputs": [
    {
     "name": "stdout",
     "output_type": "stream",
     "text": [
      "1\n",
      "1\n",
      "2\n",
      "2\n",
      "2\n",
      "2\n",
      "1\n",
      "1\n",
      "1\n"
     ]
    }
   ],
   "source": [
    "for i in range(len(prediction)):\n",
    "    \n",
    "    print(prediction[i][2])"
   ]
  },
  {
   "cell_type": "code",
   "execution_count": 42,
   "metadata": {},
   "outputs": [],
   "source": [
    "test1=[]\n",
    "test2=[]\n",
    "\n",
    "for i in range(len(prediction)):\n",
    "    \n",
    "    if prediction[i][2]==1:\n",
    "        test1.append(prediction[i][0:2])\n",
    "    else:\n",
    "        test2.append(prediction[i][0:2])\n"
   ]
  },
  {
   "cell_type": "code",
   "execution_count": 47,
   "metadata": {},
   "outputs": [],
   "source": [
    "test1=np.array(test1)\n",
    "test2=np.array(test2)"
   ]
  },
  {
   "cell_type": "code",
   "execution_count": 48,
   "metadata": {},
   "outputs": [
    {
     "data": {
      "image/png": "[encoded data removed]",
      "text/plain": [
       "<Figure size 432x288 with 1 Axes>"
      ]
     },
     "metadata": {
      "needs_background": "light"
     },
     "output_type": "display_data"
    },
    {
     "data": {
      "text/plain": [
       "<Figure size 1080x576 with 0 Axes>"
      ]
     },
     "metadata": {},
     "output_type": "display_data"
    }
   ],
   "source": [
    "fig, ax = plt.subplots()\n",
    "plt.figure(figsize=(15,8))\n",
    "\n",
    "ax.scatter(test1[:,0], test1[:,1],marker='*',color='r',label='Test Class 1')\n",
    "ax.scatter(test2[:,0], test2[:,1],marker='o',color='k',label='Test Class 2')\n",
    "legend = ax.legend(loc='upper center', shadow=False, fontsize='small',labelspacing=1)\n",
    "legend.get_frame().set_facecolor('None')\n",
    "plt.show()"
   ]
  },
  {
   "cell_type": "code",
   "execution_count": 27,
   "metadata": {},
   "outputs": [
    {
     "name": "stdout",
     "output_type": "stream",
     "text": [
      "[3, 7]\n",
      "Distance  1 : 3 \tClass 1\n",
      "Distance  2 : 3 \tClass 2\n",
      "Distance  3 : 3 \tClass 1\n",
      "Predicted Class:  Class 1 \n",
      "\n",
      "[7, 7]\n",
      "Distance  1 : 0 \tClass 1\n",
      "Distance  2 : 1 \tClass 1\n",
      "Distance  3 : 1 \tClass 1\n",
      "Predicted Class:  Class 1 \n",
      "\n",
      "[4, 3]\n",
      "Distance  1 : 0 \tClass 2\n",
      "Distance  2 : 1 \tClass 2\n",
      "Distance  3 : 1 \tClass 2\n",
      "Predicted Class:  Class 2 \n",
      "\n",
      "[2, 8]\n",
      "Distance  1 : 4 \tClass 1\n",
      "Distance  2 : 4 \tClass 2\n",
      "Distance  3 : 4 \tClass 2\n",
      "Predicted Class:  Class 2 \n",
      "\n",
      "[3, 5]\n",
      "Distance  1 : 1 \tClass 2\n",
      "Distance  2 : 1 \tClass 2\n",
      "Distance  3 : 2 \tClass 2\n",
      "Predicted Class:  Class 2 \n",
      "\n",
      "[1, 2]\n",
      "Distance  1 : 1 \tClass 2\n",
      "Distance  2 : 2 \tClass 2\n",
      "Distance  3 : 2 \tClass 2\n",
      "Predicted Class:  Class 2 \n",
      "\n",
      "[4, 8]\n",
      "Distance  1 : 2 \tClass 1\n",
      "Distance  2 : 3 \tClass 1\n",
      "Distance  3 : 3 \tClass 1\n",
      "Predicted Class:  Class 1 \n",
      "\n",
      "[8, 3]\n",
      "Distance  1 : 1 \tClass 1\n",
      "Distance  2 : 2 \tClass 1\n",
      "Distance  3 : 2 \tClass 1\n",
      "Predicted Class:  Class 1 \n",
      "\n",
      "[8, 4]\n",
      "Distance  1 : 1 \tClass 1\n",
      "Distance  2 : 1 \tClass 1\n",
      "Distance  3 : 2 \tClass 1\n",
      "Predicted Class:  Class 1 \n",
      "\n"
     ]
    }
   ],
   "source": [
    "prediction = open('prediction.txt','w')\n",
    "for j in (final_dis):\n",
    "    predicted = ''\n",
    "    count1 = 0\n",
    "    count2 = 0\n",
    "    print(j[len(j)-1])\n",
    "    stest = str(j[len(j)-1])+'\\n'\n",
    "    prediction.write(stest)\n",
    "    n =1\n",
    "    for u in j[:-1]:\n",
    "        print('Distance ',n,':',round(u[0]),'\\tClass',u[1])\n",
    "        sdis = 'Distance '+ str(n)+ ':'+ str( u[0] ) +'\\tClass'+str(u[1])+'\\n'\n",
    "        prediction.write(sdis)\n",
    "        if(u[1] == 1):\n",
    "            count1 = count1 + 1\n",
    "        else:\n",
    "            count2 = count2 + 1\n",
    "        n+=1\n",
    "    if(count1 > count2):\n",
    "        predicted = 'Class 1'\n",
    "    else:\n",
    "        predicted = 'Class 2'\n",
    "    print('Predicted Class: ',predicted,'\\n')\n",
    "    spredict = 'Predicted Class: '+str(predicted)+'\\n'\n",
    "    prediction.write(spredict)\n",
    "prediction.close()"
   ]
  }
 ],
 "metadata": {
  "kernelspec": {
   "display_name": "Python 3",
   "language": "python",
   "name": "python3"
  },
  "language_info": {
   "codemirror_mode": {
    "name": "ipython",
    "version": 3
   },
   "file_extension": ".py",
   "mimetype": "text/x-python",
   "name": "python",
   "nbconvert_exporter": "python",
   "pygments_lexer": "ipython3",
   "version": "3.8.3"
  }
 },
 "nbformat": 4,
 "nbformat_minor": 4
}
